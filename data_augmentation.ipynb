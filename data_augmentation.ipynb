{
 "cells": [
  {
   "cell_type": "markdown",
   "metadata": {},
   "source": [
    "- After Training the model We found out how much imbalanced Data Can effect the model, Which led us to implement the data augmentation concept to make all the number of images in all files the same \n"
   ]
  },
  {
   "cell_type": "markdown",
   "metadata": {},
   "source": [
    "## number of images we have before data augmentation"
   ]
  },
  {
   "cell_type": "code",
   "execution_count": null,
   "metadata": {},
   "outputs": [],
   "source": [
    "import os\n",
    "import os\n",
    "import numpy as np\n",
    "from tensorflow.keras.preprocessing.image import ImageDataGenerator, load_img, img_to_array, array_to_img"
   ]
  },
  {
   "cell_type": "code",
   "execution_count": null,
   "metadata": {},
   "outputs": [],
   "source": [
    "\n",
    "def count_images_in_directory(directory_path):\n",
    "    total_images = 0\n",
    "    for root, dirs, files in os.walk(directory_path):\n",
    "        image_files = [file for file in files if file.endswith(('.png', '.jpg', '.jpeg', '.bmp', '.tiff'))]\n",
    "        total_images += len(image_files)\n",
    "    return total_images\n",
    "\n",
    "# Paths to your directories\n",
    "# Set the directories to train and test and validate \n",
    "train_dir = r\"C:\\Users\\khair\\Downloads\\archive (2)\\train\"\n",
    "test_dir = r\"C:\\Users\\khair\\Downloads\\archive (2)\\test\"\n",
    "validation_dir = r\"C:\\Users\\khair\\Downloads\\archive (2)\\validation\"\n",
    "\n",
    "# Count images in each directory\n",
    "train_count = count_images_in_directory(train_dir)\n",
    "test_count = count_images_in_directory(test_dir)\n",
    "validation_count = count_images_in_directory(validation_dir)\n",
    "\n",
    "print(f\"Number of images in train directory: {train_count}\")\n",
    "print(f\"Number of images in test directory: {test_count}\")\n",
    "print(f\"Number of images in validation directory: {validation_count}\")\n"
   ]
  },
  {
   "cell_type": "code",
   "execution_count": null,
   "metadata": {},
   "outputs": [],
   "source": [
    "\n",
    "def count_images_in_class_folders(train_dir):\n",
    "    class_counts = {}\n",
    "    for class_name in os.listdir(train_dir):\n",
    "        class_path = os.path.join(train_dir, class_name)\n",
    "        if os.path.isdir(class_path):\n",
    "            image_files = [file for file in os.listdir(class_path) if file.endswith(('.png', '.jpg', '.jpeg', '.bmp', '.tiff'))]\n",
    "            class_counts[class_name] = len(image_files)\n",
    "    return class_counts\n",
    "\n",
    "\n",
    "# Count images in each class within the train directory\n",
    "train_counts = count_images_in_class_folders(train_dir)\n",
    "\n",
    "\n",
    "print(\"Train Directory Image Counts by Class:\")\n",
    "for class_name, count in train_counts.items():\n",
    "    print(f\"{class_name}: {count}\")\n"
   ]
  },
  {
   "cell_type": "code",
   "execution_count": null,
   "metadata": {},
   "outputs": [],
   "source": [
    "# Count images in each class within the test directory\n",
    "test_counts = count_images_in_class_folders(test_dir)\n",
    "\n",
    "print(\"Test Directory Image Counts by Class:\")\n",
    "for class_name, count in test_counts.items():\n",
    "    print(f\"{class_name}: {count}\")"
   ]
  },
  {
   "cell_type": "code",
   "execution_count": null,
   "metadata": {},
   "outputs": [],
   "source": [
    "# Count images in each class within the test directory\n",
    "valid_counts = count_images_in_class_folders(validation_dir)\n",
    "\n",
    "print(\"Test Directory Image Counts by Class:\")\n",
    "for class_name, count in valid_counts.items():\n",
    "    print(f\"{class_name}: {count}\")"
   ]
  },
  {
   "cell_type": "markdown",
   "metadata": {},
   "source": [
    "## Data Augmentation method"
   ]
  },
  {
   "cell_type": "code",
   "execution_count": null,
   "metadata": {},
   "outputs": [],
   "source": [
    "\n",
    "def count_images_in_class_folders(directory):\n",
    "    class_counts = {}\n",
    "    for class_name in os.listdir(directory):\n",
    "        class_path = os.path.join(directory, class_name)\n",
    "        if os.path.isdir(class_path):\n",
    "            image_files = [file for file in os.listdir(class_path) if file.endswith(('.png', '.jpg', '.jpeg', '.bmp', '.tiff'))]\n",
    "            class_counts[class_name] = len(image_files)\n",
    "    return class_counts\n",
    "\n",
    "def augment_data(source_directory, target_directory, target_count, datagen):\n",
    "    for class_name in os.listdir(source_directory):\n",
    "        class_path = os.path.join(source_directory, class_name)\n",
    "        target_class_path = os.path.join(target_directory, class_name)\n",
    "        os.makedirs(target_class_path, exist_ok=True)\n",
    "        if os.path.isdir(class_path):\n",
    "            image_files = [file for file in os.listdir(class_path) if file.endswith(('.png', '.jpg', '.jpeg', '.bmp', '.tiff'))]\n",
    "            current_count = len(image_files)\n",
    "            if current_count < target_count:\n",
    "                for file_name in image_files:\n",
    "                    img_path = os.path.join(class_path, file_name)\n",
    "                    img = load_img(img_path)\n",
    "                    x = img_to_array(img)\n",
    "                    x = np.expand_dims(x, axis=0)\n",
    "                    aug_iter = datagen.flow(x, batch_size=1, save_to_dir=target_class_path, save_prefix='aug_', save_format='png')\n",
    "                    for _ in range(target_count - current_count):\n",
    "                        next(aug_iter)\n",
    "\n",
    "\n",
    "# Count images in each class\n",
    "train_counts = count_images_in_class_folders(train_dir)\n",
    "test_counts = count_images_in_class_folders(test_dir)\n",
    "validation_counts = count_images_in_class_folders(validation_dir)\n",
    "\n",
    "# Determine target count (maximum count among all classes)\n",
    "max_count = max(max(train_counts.values()), max(test_counts.values()), max(validation_counts.values()))\n",
    "\n",
    "# Create ImageDataGenerator for augmentation\n",
    "datagen = ImageDataGenerator(\n",
    "    rotation_range=20,\n",
    "    width_shift_range=0.2,\n",
    "    height_shift_range=0.2,\n",
    "    shear_range=0.2,\n",
    "    zoom_range=0.2,\n",
    "    horizontal_flip=True,\n",
    "    fill_mode='nearest'\n",
    ")\n",
    "\n",
    "# Augment data for train, test, and validation directories\n",
    "augment_data(train_dir, train_dir, max_count, datagen)\n",
    "augment_data(test_dir, test_dir, max_count, datagen)\n",
    "augment_data(validation_dir, validation_dir, max_count, datagen)\n",
    "\n",
    "print(\"Data augmentation complete. All classes now have equal numbers of images.\")\n"
   ]
  },
  {
   "cell_type": "code",
   "execution_count": null,
   "metadata": {},
   "outputs": [],
   "source": []
  }
 ],
 "metadata": {
  "kernelspec": {
   "display_name": "thin_s",
   "language": "python",
   "name": "python3"
  },
  "language_info": {
   "codemirror_mode": {
    "name": "ipython",
    "version": 3
   },
   "file_extension": ".py",
   "mimetype": "text/x-python",
   "name": "python",
   "nbconvert_exporter": "python",
   "pygments_lexer": "ipython3",
   "version": "3.9.20"
  }
 },
 "nbformat": 4,
 "nbformat_minor": 2
}
