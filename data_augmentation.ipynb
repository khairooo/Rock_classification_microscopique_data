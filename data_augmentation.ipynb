{
 "cells": [
  {
   "cell_type": "markdown",
   "metadata": {},
   "source": [
    "- After Training the model We found out how much imbalanced Data Can effect the model, Which led us to implement the data augmentation concept to make all the number of images in all files the same \n"
   ]
  },
  {
   "cell_type": "markdown",
   "metadata": {},
   "source": [
    "## number of images we have before data augmentation"
   ]
  },
  {
   "cell_type": "code",
   "execution_count": 5,
   "metadata": {},
   "outputs": [
    {
     "name": "stdout",
     "output_type": "stream",
     "text": [
      "Number of images in train directory: 17427\n",
      "Number of images in test directory: 2200\n",
      "Number of images in validation directory: 2033\n"
     ]
    }
   ],
   "source": [
    "import os\n",
    "\n",
    "def count_images_in_directory(directory_path):\n",
    "    total_images = 0\n",
    "    for root, dirs, files in os.walk(directory_path):\n",
    "        image_files = [file for file in files if file.endswith(('.png', '.jpg', '.jpeg', '.bmp', '.tiff'))]\n",
    "        total_images += len(image_files)\n",
    "    return total_images\n",
    "\n",
    "# Paths to your directories\n",
    "# Set the directories to train and test and validate \n",
    "train_dir = r\"C:\\Users\\khair\\Downloads\\archive (2)\\train\"\n",
    "test_dir = r\"C:\\Users\\khair\\Downloads\\archive (2)\\test\"\n",
    "validation_dir = r\"C:\\Users\\khair\\Downloads\\archive (2)\\validation\"\n",
    "\n",
    "# Count images in each directory\n",
    "train_count = count_images_in_directory(train_dir)\n",
    "test_count = count_images_in_directory(test_dir)\n",
    "validation_count = count_images_in_directory(validation_dir)\n",
    "\n",
    "print(f\"Number of images in train directory: {train_count}\")\n",
    "print(f\"Number of images in test directory: {test_count}\")\n",
    "print(f\"Number of images in validation directory: {validation_count}\")\n"
   ]
  },
  {
   "cell_type": "code",
   "execution_count": null,
   "metadata": {},
   "outputs": [
    {
     "name": "stdout",
     "output_type": "stream",
     "text": [
      "Train Directory Image Counts by Class:\n",
      "actinolite: 24\n",
      "Andalusite: 60\n",
      "Argillaceous_siltstone: 880\n",
      "biotite: 195\n",
      "Bioturbated_siltstone: 1200\n",
      "carbonate: 4000\n",
      "coal: 3200\n",
      "debris_rock: 702\n",
      "granite: 60\n",
      "hornblende: 72\n",
      "Massive_calcareous_siltstone: 680\n",
      "Massive_calcite-cemented_siltstone: 1160\n",
      "olivine: 140\n",
      "oolites: 82\n",
      "plagioclase: 90\n",
      "Porous_calcareous_siltstone: 640\n",
      "pyroxene: 146\n",
      "sandstone: 4000\n",
      "staurolite: 96\n"
     ]
    }
   ],
   "source": [
    "\n",
    "import os\n",
    "\n",
    "def count_images_in_class_folders(train_dir):\n",
    "    class_counts = {}\n",
    "    for class_name in os.listdir(train_dir):\n",
    "        class_path = os.path.join(train_dir, class_name)\n",
    "        if os.path.isdir(class_path):\n",
    "            image_files = [file for file in os.listdir(class_path) if file.endswith(('.png', '.jpg', '.jpeg', '.bmp', '.tiff'))]\n",
    "            class_counts[class_name] = len(image_files)\n",
    "    return class_counts\n",
    "\n",
    "\n",
    "# Count images in each class within the train directory\n",
    "train_counts = count_images_in_class_folders(train_dir)\n",
    "\n",
    "\n",
    "print(\"Train Directory Image Counts by Class:\")\n",
    "for class_name, count in train_counts.items():\n",
    "    print(f\"{class_name}: {count}\")\n"
   ]
  },
  {
   "cell_type": "code",
   "execution_count": 8,
   "metadata": {},
   "outputs": [
    {
     "name": "stdout",
     "output_type": "stream",
     "text": [
      "Test Directory Image Counts by Class:\n",
      "actinolite: 4\n",
      "Andalusite: 14\n",
      "Argillaceous_siltstone: 90\n",
      "biotite: 25\n",
      "Bioturbated_siltstone: 190\n",
      "carbonate: 500\n",
      "coal: 400\n",
      "debris_rock: 86\n",
      "granite: 16\n",
      "hornblende: 17\n",
      "Massive_calcareous_siltstone: 80\n",
      "Massive_calcite-cemented_siltstone: 125\n",
      "olivine: 16\n",
      "oolites: 10\n",
      "plagioclase: 9\n",
      "Porous_calcareous_siltstone: 85\n",
      "pyroxene: 20\n",
      "sandstone: 500\n",
      "staurolite: 13\n"
     ]
    }
   ],
   "source": [
    "# Count images in each class within the test directory\n",
    "test_counts = count_images_in_class_folders(test_dir)\n",
    "\n",
    "print(\"Test Directory Image Counts by Class:\")\n",
    "for class_name, count in test_counts.items():\n",
    "    print(f\"{class_name}: {count}\")"
   ]
  },
  {
   "cell_type": "code",
   "execution_count": 9,
   "metadata": {},
   "outputs": [
    {
     "name": "stdout",
     "output_type": "stream",
     "text": [
      "Test Directory Image Counts by Class:\n",
      "actinolite: 6\n",
      "Andalusite: 19\n",
      "Argillaceous_siltstone: 55\n",
      "biotite: 24\n",
      "Bioturbated_siltstone: 110\n",
      "carbonate: 500\n",
      "coal: 400\n",
      "debris_rock: 90\n",
      "granite: 19\n",
      "hornblende: 17\n",
      "Massive_calcareous_siltstone: 70\n",
      "Massive_calcite-cemented_siltstone: 120\n",
      "olivine: 18\n",
      "oolites: 11\n",
      "plagioclase: 13\n",
      "Porous_calcareous_siltstone: 30\n",
      "pyroxene: 18\n",
      "sandstone: 500\n",
      "staurolite: 13\n"
     ]
    }
   ],
   "source": [
    "# Count images in each class within the test directory\n",
    "valid_counts = count_images_in_class_folders(validation_dir)\n",
    "\n",
    "print(\"Test Directory Image Counts by Class:\")\n",
    "for class_name, count in valid_counts.items():\n",
    "    print(f\"{class_name}: {count}\")"
   ]
  },
  {
   "cell_type": "code",
   "execution_count": null,
   "metadata": {},
   "outputs": [],
   "source": []
  }
 ],
 "metadata": {
  "kernelspec": {
   "display_name": "thin_s",
   "language": "python",
   "name": "python3"
  },
  "language_info": {
   "codemirror_mode": {
    "name": "ipython",
    "version": 3
   },
   "file_extension": ".py",
   "mimetype": "text/x-python",
   "name": "python",
   "nbconvert_exporter": "python",
   "pygments_lexer": "ipython3",
   "version": "3.9.20"
  }
 },
 "nbformat": 4,
 "nbformat_minor": 2
}
